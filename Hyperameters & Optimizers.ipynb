{
 "cells": [
  {
   "cell_type": "markdown",
   "id": "4ccb5f30",
   "metadata": {},
   "source": [
    "# Train CNN for MNIST dataset with different Hyperameters & Optimizers ###"
   ]
  },
  {
   "cell_type": "markdown",
   "id": "54508521",
   "metadata": {},
   "source": [
    "#### The MNIST database (Modified National Institute of Standards and Technology database) is a large database of handwritten digits that is commonly used for training various image processing systems. The MNIST database of handwritten digits, has a training set of 60,000 28x28 grayscale images of the 10 digits, and a test set of 10,000 examples. It is a subset of a larger set available from NIST. The digits have been size-normalized and centered in a fixed-size image."
   ]
  },
  {
   "cell_type": "code",
   "execution_count": 2,
   "id": "c004ecba",
   "metadata": {},
   "outputs": [
    {
     "name": "stderr",
     "output_type": "stream",
     "text": [
      "2023-04-04 15:22:09.199658: I tensorflow/core/util/port.cc:110] oneDNN custom operations are on. You may see slightly different numerical results due to floating-point round-off errors from different computation orders. To turn them off, set the environment variable `TF_ENABLE_ONEDNN_OPTS=0`.\n",
      "2023-04-04 15:22:09.250486: I tensorflow/tsl/cuda/cudart_stub.cc:28] Could not find cuda drivers on your machine, GPU will not be used.\n",
      "2023-04-04 15:22:09.467874: I tensorflow/tsl/cuda/cudart_stub.cc:28] Could not find cuda drivers on your machine, GPU will not be used.\n",
      "2023-04-04 15:22:09.468958: I tensorflow/core/platform/cpu_feature_guard.cc:182] This TensorFlow binary is optimized to use available CPU instructions in performance-critical operations.\n",
      "To enable the following instructions: AVX2 AVX512F AVX512_VNNI FMA, in other operations, rebuild TensorFlow with the appropriate compiler flags.\n",
      "2023-04-04 15:22:10.627141: W tensorflow/compiler/tf2tensorrt/utils/py_utils.cc:38] TF-TRT Warning: Could not find TensorRT\n"
     ]
    }
   ],
   "source": [
    "#importing and installing the necessary modules\n",
    "from keras.datasets import mnist\n",
    "import numpy as np"
   ]
  },
  {
   "cell_type": "code",
   "execution_count": 2,
   "id": "8c7322d4",
   "metadata": {},
   "outputs": [
    {
     "name": "stdout",
     "output_type": "stream",
     "text": [
      "Defaulting to user installation because normal site-packages is not writeable\n",
      "Requirement already satisfied: tensorflow in /home/maryam2730/.local/lib/python3.10/site-packages (2.12.0)\n",
      "Requirement already satisfied: jax>=0.3.15 in /home/maryam2730/.local/lib/python3.10/site-packages (from tensorflow) (0.4.8)\n",
      "Requirement already satisfied: h5py>=2.9.0 in /home/maryam2730/.local/lib/python3.10/site-packages (from tensorflow) (3.8.0)\n",
      "Requirement already satisfied: tensorflow-io-gcs-filesystem>=0.23.1 in /home/maryam2730/.local/lib/python3.10/site-packages (from tensorflow) (0.32.0)\n",
      "Requirement already satisfied: six>=1.12.0 in /usr/lib/python3/dist-packages (from tensorflow) (1.16.0)\n",
      "Requirement already satisfied: protobuf!=4.21.0,!=4.21.1,!=4.21.2,!=4.21.3,!=4.21.4,!=4.21.5,<5.0.0dev,>=3.20.3 in /home/maryam2730/.local/lib/python3.10/site-packages (from tensorflow) (4.22.1)\n",
      "Requirement already satisfied: keras<2.13,>=2.12.0 in /home/maryam2730/.local/lib/python3.10/site-packages (from tensorflow) (2.12.0)\n",
      "Requirement already satisfied: google-pasta>=0.1.1 in /home/maryam2730/.local/lib/python3.10/site-packages (from tensorflow) (0.2.0)\n",
      "Requirement already satisfied: tensorflow-estimator<2.13,>=2.12.0 in /home/maryam2730/.local/lib/python3.10/site-packages (from tensorflow) (2.12.0)\n",
      "Requirement already satisfied: wrapt<1.15,>=1.11.0 in /home/maryam2730/.local/lib/python3.10/site-packages (from tensorflow) (1.14.1)\n",
      "Requirement already satisfied: termcolor>=1.1.0 in /home/maryam2730/.local/lib/python3.10/site-packages (from tensorflow) (2.2.0)\n",
      "Requirement already satisfied: setuptools in /usr/lib/python3/dist-packages (from tensorflow) (59.6.0)\n",
      "Requirement already satisfied: tensorboard<2.13,>=2.12 in /home/maryam2730/.local/lib/python3.10/site-packages (from tensorflow) (2.12.1)\n",
      "Requirement already satisfied: typing-extensions>=3.6.6 in /home/maryam2730/.local/lib/python3.10/site-packages (from tensorflow) (4.5.0)\n",
      "Requirement already satisfied: absl-py>=1.0.0 in /home/maryam2730/.local/lib/python3.10/site-packages (from tensorflow) (1.4.0)\n",
      "Requirement already satisfied: flatbuffers>=2.0 in /home/maryam2730/.local/lib/python3.10/site-packages (from tensorflow) (23.3.3)\n",
      "Requirement already satisfied: numpy<1.24,>=1.22 in /home/maryam2730/.local/lib/python3.10/site-packages (from tensorflow) (1.23.5)\n",
      "Requirement already satisfied: libclang>=13.0.0 in /home/maryam2730/.local/lib/python3.10/site-packages (from tensorflow) (16.0.0)\n",
      "Requirement already satisfied: astunparse>=1.6.0 in /home/maryam2730/.local/lib/python3.10/site-packages (from tensorflow) (1.6.3)\n",
      "Requirement already satisfied: opt-einsum>=2.3.2 in /home/maryam2730/.local/lib/python3.10/site-packages (from tensorflow) (3.3.0)\n",
      "Requirement already satisfied: packaging in /usr/lib/python3/dist-packages (from tensorflow) (21.3)\n",
      "Requirement already satisfied: gast<=0.4.0,>=0.2.1 in /home/maryam2730/.local/lib/python3.10/site-packages (from tensorflow) (0.4.0)\n",
      "Requirement already satisfied: grpcio<2.0,>=1.24.3 in /home/maryam2730/.local/lib/python3.10/site-packages (from tensorflow) (1.53.0)\n",
      "Requirement already satisfied: wheel<1.0,>=0.23.0 in /usr/lib/python3/dist-packages (from astunparse>=1.6.0->tensorflow) (0.37.1)\n",
      "Requirement already satisfied: ml-dtypes>=0.0.3 in /home/maryam2730/.local/lib/python3.10/site-packages (from jax>=0.3.15->tensorflow) (0.0.4)\n",
      "Requirement already satisfied: scipy>=1.7 in /usr/lib/python3/dist-packages (from jax>=0.3.15->tensorflow) (1.8.0)\n",
      "Requirement already satisfied: markdown>=2.6.8 in /home/maryam2730/.local/lib/python3.10/site-packages (from tensorboard<2.13,>=2.12->tensorflow) (3.4.3)\n",
      "Requirement already satisfied: google-auth<3,>=1.6.3 in /home/maryam2730/.local/lib/python3.10/site-packages (from tensorboard<2.13,>=2.12->tensorflow) (2.17.1)\n",
      "Requirement already satisfied: google-auth-oauthlib<1.1,>=0.5 in /home/maryam2730/.local/lib/python3.10/site-packages (from tensorboard<2.13,>=2.12->tensorflow) (1.0.0)\n",
      "Requirement already satisfied: tensorboard-plugin-wit>=1.6.0 in /home/maryam2730/.local/lib/python3.10/site-packages (from tensorboard<2.13,>=2.12->tensorflow) (1.8.1)\n",
      "Requirement already satisfied: tensorboard-data-server<0.8.0,>=0.7.0 in /home/maryam2730/.local/lib/python3.10/site-packages (from tensorboard<2.13,>=2.12->tensorflow) (0.7.0)\n",
      "Requirement already satisfied: werkzeug>=1.0.1 in /usr/lib/python3/dist-packages (from tensorboard<2.13,>=2.12->tensorflow) (2.0.2)\n",
      "Requirement already satisfied: requests<3,>=2.21.0 in /home/maryam2730/.local/lib/python3.10/site-packages (from tensorboard<2.13,>=2.12->tensorflow) (2.28.2)\n",
      "Requirement already satisfied: pyasn1-modules>=0.2.1 in /home/maryam2730/.local/lib/python3.10/site-packages (from google-auth<3,>=1.6.3->tensorboard<2.13,>=2.12->tensorflow) (0.2.8)\n",
      "Requirement already satisfied: rsa<5,>=3.1.4 in /home/maryam2730/.local/lib/python3.10/site-packages (from google-auth<3,>=1.6.3->tensorboard<2.13,>=2.12->tensorflow) (4.9)\n",
      "Requirement already satisfied: cachetools<6.0,>=2.0.0 in /home/maryam2730/.local/lib/python3.10/site-packages (from google-auth<3,>=1.6.3->tensorboard<2.13,>=2.12->tensorflow) (5.3.0)\n",
      "Requirement already satisfied: requests-oauthlib>=0.7.0 in /home/maryam2730/.local/lib/python3.10/site-packages (from google-auth-oauthlib<1.1,>=0.5->tensorboard<2.13,>=2.12->tensorflow) (1.3.1)\n",
      "Requirement already satisfied: charset-normalizer<4,>=2 in /home/maryam2730/.local/lib/python3.10/site-packages (from requests<3,>=2.21.0->tensorboard<2.13,>=2.12->tensorflow) (3.1.0)\n",
      "Requirement already satisfied: certifi>=2017.4.17 in /home/maryam2730/.local/lib/python3.10/site-packages (from requests<3,>=2.21.0->tensorboard<2.13,>=2.12->tensorflow) (2022.12.7)\n",
      "Requirement already satisfied: idna<4,>=2.5 in /home/maryam2730/.local/lib/python3.10/site-packages (from requests<3,>=2.21.0->tensorboard<2.13,>=2.12->tensorflow) (3.4)\n",
      "Requirement already satisfied: urllib3<1.27,>=1.21.1 in /home/maryam2730/.local/lib/python3.10/site-packages (from requests<3,>=2.21.0->tensorboard<2.13,>=2.12->tensorflow) (1.26.15)\n",
      "Requirement already satisfied: pyasn1<0.5.0,>=0.4.6 in /home/maryam2730/.local/lib/python3.10/site-packages (from pyasn1-modules>=0.2.1->google-auth<3,>=1.6.3->tensorboard<2.13,>=2.12->tensorflow) (0.4.8)\n",
      "Requirement already satisfied: oauthlib>=3.0.0 in /usr/lib/python3/dist-packages (from requests-oauthlib>=0.7.0->google-auth-oauthlib<1.1,>=0.5->tensorboard<2.13,>=2.12->tensorflow) (3.2.0)\n",
      "Note: you may need to restart the kernel to use updated packages.\n"
     ]
    }
   ],
   "source": [
    "pip install tensorflow"
   ]
  },
  {
   "cell_type": "code",
   "execution_count": 3,
   "id": "d86cdb55",
   "metadata": {},
   "outputs": [
    {
     "name": "stdout",
     "output_type": "stream",
     "text": [
      "Defaulting to user installation because normal site-packages is not writeable\n",
      "Requirement already satisfied: keras in /home/maryam2730/.local/lib/python3.10/site-packages (2.12.0)\n",
      "Note: you may need to restart the kernel to use updated packages.\n"
     ]
    }
   ],
   "source": [
    "pip install keras"
   ]
  },
  {
   "cell_type": "code",
   "execution_count": 3,
   "id": "8689a651",
   "metadata": {},
   "outputs": [],
   "source": [
    "#loading data\n",
    "(xtrain,ytrain),(xtest,ytest)=mnist.load_data()"
   ]
  },
  {
   "cell_type": "code",
   "execution_count": 4,
   "id": "04c7c564",
   "metadata": {},
   "outputs": [
    {
     "name": "stdout",
     "output_type": "stream",
     "text": [
      "Training data:\n"
     ]
    },
    {
     "data": {
      "image/png": "[encoded data removed]",
      "text/plain": [
       "<Figure size 432x288 with 1 Axes>"
      ]
     },
     "metadata": {
      "needs_background": "light"
     },
     "output_type": "display_data"
    },
    {
     "name": "stdout",
     "output_type": "stream",
     "text": [
      "Label of this image is 5\n"
     ]
    }
   ],
   "source": [
    "#What mnist images look like\n",
    "import matplotlib.pyplot as plt\n",
    "print(\"Training data:\")\n",
    "plt.imshow(xtrain[0])\n",
    "plt.show()\n",
    "print(\"Label of this image is\",ytrain[0])"
   ]
  },
  {
   "cell_type": "code",
   "execution_count": 5,
   "id": "e04f8bb6",
   "metadata": {},
   "outputs": [
    {
     "data": {
      "text/plain": [
       "((60000, 28, 28, 1), (10000, 28, 28, 1), (60000,), (10000,))"
      ]
     },
     "execution_count": 5,
     "metadata": {},
     "output_type": "execute_result"
    }
   ],
   "source": [
    "#reshaping data as needed by the model\n",
    "xtrain=np.reshape(xtrain,(-1,28,28,1))\n",
    "xtest=np.reshape(xtest,(-1,28,28,1))\n",
    "xtrain.shape,xtest.shape,ytrain.shape,ytest.shape"
   ]
  },
  {
   "cell_type": "code",
   "execution_count": 6,
   "id": "de05bc77",
   "metadata": {},
   "outputs": [],
   "source": [
    "#normalising\n",
    "xtrain=xtrain/255\n",
    "xtest=xtest/255"
   ]
  },
  {
   "cell_type": "code",
   "execution_count": 7,
   "id": "449b89ff",
   "metadata": {},
   "outputs": [],
   "source": [
    "#importing the model\n",
    "from keras.models import Sequential\n",
    "     "
   ]
  },
  {
   "cell_type": "code",
   "execution_count": 8,
   "id": "ade12e62",
   "metadata": {},
   "outputs": [],
   "source": [
    "#creating model object\n",
    "model=Sequential()"
   ]
  },
  {
   "cell_type": "code",
   "execution_count": 9,
   "id": "5c9e013e",
   "metadata": {},
   "outputs": [],
   "source": [
    "#importing layers\n",
    "from keras.layers import Conv2D,MaxPooling2D,Flatten,Dense,Dropout"
   ]
  },
  {
   "cell_type": "code",
   "execution_count": 10,
   "id": "169ef707",
   "metadata": {},
   "outputs": [],
   "source": [
    "#adding layers and forming the model\n",
    "model.add(Conv2D(32,kernel_size=7,strides=1,padding=\"Same\",activation=\"relu\",input_shape=(28,28,1)))\n",
    "model.add(MaxPooling2D(padding=\"same\"))\n",
    "\n",
    "model.add(Conv2D(64,kernel_size=7,strides=1,padding=\"same\",activation=\"relu\"))\n",
    "model.add(MaxPooling2D(padding=\"same\"))\n",
    "\n",
    "model.add(Flatten())\n",
    "\n",
    "model.add(Dense(1024,activation=\"relu\"))\n",
    "model.add(Dropout(0.2))\n",
    "model.add(Dense(10,activation=\"sigmoid\"))\n",
    "model.add(Dense(10,activation=\"softmax\"))"
   ]
  },
  {
   "cell_type": "code",
   "execution_count": 11,
   "id": "72b3ced7",
   "metadata": {},
   "outputs": [],
   "source": [
    "#compiling\n",
    "model.compile(optimizer=\"Adam\",loss=\"sparse_categorical_crossentropy\",metrics=[\"accuracy\"])\n",
    "     "
   ]
  },
  {
   "cell_type": "markdown",
   "id": "259fe86b",
   "metadata": {},
   "source": [
    "### Trying different batch sizes and epochs"
   ]
  },
  {
   "cell_type": "code",
   "execution_count": 42,
   "id": "7d647039",
   "metadata": {},
   "outputs": [
    {
     "name": "stdout",
     "output_type": "stream",
     "text": [
      "938/938 [==============================] - 47s 50ms/step - loss: 0.1113 - accuracy: 0.9657 - val_loss: 0.0481 - val_accuracy: 0.9841\n"
     ]
    },
    {
     "data": {
      "text/plain": [
       "<keras.callbacks.History at 0x7f39f843e770>"
      ]
     },
     "execution_count": 42,
     "metadata": {},
     "output_type": "execute_result"
    }
   ],
   "source": [
    "#training the model\n",
    "model.fit(xtrain,ytrain,batch_size=64,epochs=1,validation_data=(xtest,ytest))"
   ]
  },
  {
   "cell_type": "code",
   "execution_count": 44,
   "id": "0dc5904c",
   "metadata": {},
   "outputs": [
    {
     "name": "stdout",
     "output_type": "stream",
     "text": [
      "1875/1875 [==============================] - 25s 9ms/step - loss: 0.0462 - accuracy: 0.9861\n",
      "313/313 [==============================] - 3s 8ms/step - loss: 0.0481 - accuracy: 0.9841\n"
     ]
    },
    {
     "data": {
      "text/plain": [
       "([0.046233169734478, 0.9860833287239075],\n",
       " [0.048134028911590576, 0.9840999841690063])"
      ]
     },
     "execution_count": 44,
     "metadata": {},
     "output_type": "execute_result"
    }
   ],
   "source": [
    "\n",
    "#model train and test scores\n",
    "model.evaluate(xtrain,ytrain),model.evaluate(xtest,ytest)"
   ]
  },
  {
   "cell_type": "code",
   "execution_count": 45,
   "id": "8f6641d5",
   "metadata": {},
   "outputs": [
    {
     "name": "stdout",
     "output_type": "stream",
     "text": [
      "Model: \"sequential_2\"\n",
      "_________________________________________________________________\n",
      " Layer (type)                Output Shape              Param #   \n",
      "=================================================================\n",
      " conv2d_4 (Conv2D)           (None, 28, 28, 32)        832       \n",
      "                                                                 \n",
      " max_pooling2d_4 (MaxPooling  (None, 14, 14, 32)       0         \n",
      " 2D)                                                             \n",
      "                                                                 \n",
      " conv2d_5 (Conv2D)           (None, 14, 14, 64)        51264     \n",
      "                                                                 \n",
      " max_pooling2d_5 (MaxPooling  (None, 7, 7, 64)         0         \n",
      " 2D)                                                             \n",
      "                                                                 \n",
      " flatten_2 (Flatten)         (None, 3136)              0         \n",
      "                                                                 \n",
      " dense_4 (Dense)             (None, 1024)              3212288   \n",
      "                                                                 \n",
      " dropout_2 (Dropout)         (None, 1024)              0         \n",
      "                                                                 \n",
      " dense_5 (Dense)             (None, 10)                10250     \n",
      "                                                                 \n",
      "=================================================================\n",
      "Total params: 3,274,634\n",
      "Trainable params: 3,274,634\n",
      "Non-trainable params: 0\n",
      "_________________________________________________________________\n"
     ]
    }
   ],
   "source": [
    "model.summary()"
   ]
  },
  {
   "cell_type": "markdown",
   "id": "66313a2a",
   "metadata": {},
   "source": [
    "#### model_accuracy on xtrain,ytrain =  1875/1875 [==============================] - 21s 11ms/step - loss: 0.0116 - accuracy: 0.9963 or 99.63%"
   ]
  },
  {
   "cell_type": "markdown",
   "id": "5beff07e",
   "metadata": {},
   "source": [
    "#### model_accuracy on xtest,ytest = 313/313 [==============================] - 5s 15ms/step - loss: 0.0288 - accuracy: 0.990 0r 99.01%"
   ]
  },
  {
   "cell_type": "markdown",
   "id": "c4006bff",
   "metadata": {},
   "source": [
    "## Epochs 2, batch size 32"
   ]
  },
  {
   "cell_type": "code",
   "execution_count": 46,
   "id": "33ed8d3c",
   "metadata": {},
   "outputs": [
    {
     "name": "stdout",
     "output_type": "stream",
     "text": [
      "Epoch 1/2\n",
      "1875/1875 [==============================] - 72s 39ms/step - loss: 0.0487 - accuracy: 0.9851 - val_loss: 0.0355 - val_accuracy: 0.9888\n",
      "Epoch 2/2\n",
      "1875/1875 [==============================] - 72s 38ms/step - loss: 0.0279 - accuracy: 0.9914 - val_loss: 0.0330 - val_accuracy: 0.9899\n"
     ]
    },
    {
     "data": {
      "text/plain": [
       "<keras.callbacks.History at 0x7f39f967d5d0>"
      ]
     },
     "execution_count": 46,
     "metadata": {},
     "output_type": "execute_result"
    }
   ],
   "source": [
    "#training the model\n",
    "model.fit(xtrain,ytrain,batch_size=32,epochs=2,validation_data=(xtest,ytest))"
   ]
  },
  {
   "cell_type": "code",
   "execution_count": 47,
   "id": "ee5c7636",
   "metadata": {},
   "outputs": [
    {
     "name": "stdout",
     "output_type": "stream",
     "text": [
      "1875/1875 [==============================] - 15s 8ms/step - loss: 0.0194 - accuracy: 0.9942\n",
      "313/313 [==============================] - 3s 9ms/step - loss: 0.0330 - accuracy: 0.9899\n"
     ]
    },
    {
     "data": {
      "text/plain": [
       "([0.019383836537599564, 0.9942333102226257],\n",
       " [0.03303733095526695, 0.9898999929428101])"
      ]
     },
     "execution_count": 47,
     "metadata": {},
     "output_type": "execute_result"
    }
   ],
   "source": [
    "#model train and test scores\n",
    "model.evaluate(xtrain,ytrain),model.evaluate(xtest,ytest)"
   ]
  },
  {
   "cell_type": "markdown",
   "id": "74d6e8be",
   "metadata": {},
   "source": [
    "## Epochs 5, batch size 32"
   ]
  },
  {
   "cell_type": "code",
   "execution_count": 51,
   "id": "10aa7a90",
   "metadata": {},
   "outputs": [
    {
     "name": "stdout",
     "output_type": "stream",
     "text": [
      "Epoch 1/5\n",
      "1875/1875 [==============================] - 73s 39ms/step - loss: 0.0054 - accuracy: 0.9986 - val_loss: 0.0524 - val_accuracy: 0.9934\n",
      "Epoch 2/5\n",
      "1875/1875 [==============================] - 80s 42ms/step - loss: 0.0077 - accuracy: 0.9984 - val_loss: 0.0560 - val_accuracy: 0.9936\n",
      "Epoch 3/5\n",
      "1875/1875 [==============================] - 74s 39ms/step - loss: 0.0092 - accuracy: 0.9982 - val_loss: 0.0549 - val_accuracy: 0.9927\n",
      "Epoch 4/5\n",
      "1875/1875 [==============================] - 74s 39ms/step - loss: 0.0073 - accuracy: 0.9984 - val_loss: 0.0586 - val_accuracy: 0.9928\n",
      "Epoch 5/5\n",
      "1875/1875 [==============================] - 74s 40ms/step - loss: 0.0087 - accuracy: 0.9981 - val_loss: 0.0961 - val_accuracy: 0.9897\n"
     ]
    },
    {
     "data": {
      "text/plain": [
       "<keras.callbacks.History at 0x7f39f96c18d0>"
      ]
     },
     "execution_count": 51,
     "metadata": {},
     "output_type": "execute_result"
    }
   ],
   "source": [
    "#training the model\n",
    "model.fit(xtrain,ytrain,batch_size=32,epochs=5,validation_data=(xtest,ytest))"
   ]
  },
  {
   "cell_type": "code",
   "execution_count": 52,
   "id": "9e4df4a8",
   "metadata": {},
   "outputs": [
    {
     "name": "stdout",
     "output_type": "stream",
     "text": [
      "1875/1875 [==============================] - 15s 8ms/step - loss: 0.0107 - accuracy: 0.9979\n",
      "313/313 [==============================] - 3s 8ms/step - loss: 0.0961 - accuracy: 0.9897\n"
     ]
    },
    {
     "data": {
      "text/plain": [
       "([0.010670237243175507, 0.997866690158844],\n",
       " [0.09609836339950562, 0.9897000193595886])"
      ]
     },
     "execution_count": 52,
     "metadata": {},
     "output_type": "execute_result"
    }
   ],
   "source": [
    "\n",
    "#model train and test scores\n",
    "model.evaluate(xtrain,ytrain),model.evaluate(xtest,ytest)"
   ]
  },
  {
   "cell_type": "markdown",
   "id": "97ea131c",
   "metadata": {},
   "source": [
    "## Epochs 2, batch size 32"
   ]
  },
  {
   "cell_type": "code",
   "execution_count": 53,
   "id": "2798c962",
   "metadata": {},
   "outputs": [
    {
     "name": "stdout",
     "output_type": "stream",
     "text": [
      "Epoch 1/2\n",
      "1875/1875 [==============================] - 66s 35ms/step - loss: 0.0087 - accuracy: 0.9984 - val_loss: 0.1016 - val_accuracy: 0.9916\n",
      "Epoch 2/2\n",
      "1875/1875 [==============================] - 77s 41ms/step - loss: 0.0078 - accuracy: 0.9986 - val_loss: 0.1018 - val_accuracy: 0.9915\n"
     ]
    },
    {
     "data": {
      "text/plain": [
       "<keras.callbacks.History at 0x7f39f96257b0>"
      ]
     },
     "execution_count": 53,
     "metadata": {},
     "output_type": "execute_result"
    }
   ],
   "source": [
    "#training the model\n",
    "model.fit(xtrain,ytrain,batch_size=32,epochs=2,validation_data=(xtest,ytest))"
   ]
  },
  {
   "cell_type": "code",
   "execution_count": 12,
   "id": "7705515f",
   "metadata": {},
   "outputs": [
    {
     "name": "stdout",
     "output_type": "stream",
     "text": [
      "1875/1875 [==============================] - 15s 8ms/step - loss: 2.4082 - accuracy: 0.0987\n",
      "313/313 [==============================] - 3s 8ms/step - loss: 2.4099 - accuracy: 0.0980\n"
     ]
    },
    {
     "data": {
      "text/plain": [
       "([2.408242702484131, 0.09871666878461838],\n",
       " [2.409926652908325, 0.09799999743700027])"
      ]
     },
     "execution_count": 12,
     "metadata": {},
     "output_type": "execute_result"
    }
   ],
   "source": [
    "\n",
    "#model train and test scores\n",
    "model.evaluate(xtrain,ytrain),model.evaluate(xtest,ytest)"
   ]
  },
  {
   "cell_type": "markdown",
   "id": "e175ead1",
   "metadata": {},
   "source": [
    "## Using AdaDelta optimizer"
   ]
  },
  {
   "cell_type": "code",
   "execution_count": 15,
   "id": "5a70c67f",
   "metadata": {},
   "outputs": [],
   "source": [
    "#compiling\n",
    "model.compile(optimizer= \"AdaDelta\", loss=\"sparse_categorical_crossentropy\",metrics=[\"accuracy\"])"
   ]
  },
  {
   "cell_type": "code",
   "execution_count": 16,
   "id": "640d2e06",
   "metadata": {},
   "outputs": [
    {
     "name": "stdout",
     "output_type": "stream",
     "text": [
      "938/938 [==============================] - 53s 56ms/step - loss: 2.3908 - accuracy: 0.0987 - val_loss: 2.3728 - val_accuracy: 0.0980\n"
     ]
    },
    {
     "data": {
      "text/plain": [
       "<keras.callbacks.History at 0x7f342835a110>"
      ]
     },
     "execution_count": 16,
     "metadata": {},
     "output_type": "execute_result"
    }
   ],
   "source": [
    "#training the model\n",
    "model.fit(xtrain,ytrain,batch_size=64,epochs=1,validation_data=(xtest,ytest))"
   ]
  },
  {
   "cell_type": "code",
   "execution_count": 17,
   "id": "47abac13",
   "metadata": {},
   "outputs": [
    {
     "name": "stdout",
     "output_type": "stream",
     "text": [
      "1875/1875 [==============================] - 16s 9ms/step - loss: 2.3721 - accuracy: 0.0987\n",
      "313/313 [==============================] - 3s 8ms/step - loss: 2.3728 - accuracy: 0.0980\n"
     ]
    },
    {
     "data": {
      "text/plain": [
       "([2.372091770172119, 0.09871666878461838],\n",
       " [2.3728222846984863, 0.09799999743700027])"
      ]
     },
     "execution_count": 17,
     "metadata": {},
     "output_type": "execute_result"
    }
   ],
   "source": [
    "\n",
    "#model train and test scores\n",
    "model.evaluate(xtrain,ytrain),model.evaluate(xtest,ytest)"
   ]
  },
  {
   "cell_type": "markdown",
   "id": "a8f527ab",
   "metadata": {},
   "source": [
    "## Using Adagrad optimiAdagradzer"
   ]
  },
  {
   "cell_type": "code",
   "execution_count": 19,
   "id": "aa9fb84e",
   "metadata": {},
   "outputs": [],
   "source": [
    "#compiling\n",
    "model.compile(optimizer= \"Adagrad\", loss=\"sparse_categorical_crossentropy\",metrics=[\"accuracy\"])"
   ]
  },
  {
   "cell_type": "code",
   "execution_count": 20,
   "id": "c5d5ccfd",
   "metadata": {},
   "outputs": [
    {
     "name": "stdout",
     "output_type": "stream",
     "text": [
      "938/938 [==============================] - 42s 44ms/step - loss: 2.2579 - accuracy: 0.1644 - val_loss: 2.1140 - val_accuracy: 0.3013\n"
     ]
    },
    {
     "data": {
      "text/plain": [
       "<keras.callbacks.History at 0x7f3408f0cf40>"
      ]
     },
     "execution_count": 20,
     "metadata": {},
     "output_type": "execute_result"
    }
   ],
   "source": [
    "#training the model\n",
    "model.fit(xtrain,ytrain,batch_size=64,epochs=1,validation_data=(xtest,ytest))"
   ]
  },
  {
   "cell_type": "code",
   "execution_count": 21,
   "id": "6573c568",
   "metadata": {},
   "outputs": [
    {
     "name": "stdout",
     "output_type": "stream",
     "text": [
      "1875/1875 [==============================] - 18s 9ms/step - loss: 2.1179 - accuracy: 0.2897\n",
      "313/313 [==============================] - 3s 9ms/step - loss: 2.1140 - accuracy: 0.3013\n"
     ]
    },
    {
     "data": {
      "text/plain": [
       "([2.1178784370422363, 0.28968334197998047],\n",
       " [2.113976240158081, 0.3012999892234802])"
      ]
     },
     "execution_count": 21,
     "metadata": {},
     "output_type": "execute_result"
    }
   ],
   "source": [
    "\n",
    "#model train and test scores\n",
    "model.evaluate(xtrain,ytrain),model.evaluate(xtest,ytest)"
   ]
  },
  {
   "cell_type": "markdown",
   "id": "b5cc859f",
   "metadata": {},
   "source": [
    "## From the above practice the best approch is to use \"adam\" optimizer , batch size 32, and epochs 5 it will give you accuracy aroun 99.7 on train data and 98.8 on test data\n",
    "\n",
    "## Activation functions used are relu , sigmoid, and softmax"
   ]
  }
 ],
 "metadata": {
  "kernelspec": {
   "display_name": "Python 3 (ipykernel)",
   "language": "python",
   "name": "python3"
  },
  "language_info": {
   "codemirror_mode": {
    "name": "ipython",
    "version": 3
   },
   "file_extension": ".py",
   "mimetype": "text/x-python",
   "name": "python",
   "nbconvert_exporter": "python",
   "pygments_lexer": "ipython3",
   "version": "3.10.6"
  }
 },
 "nbformat": 4,
 "nbformat_minor": 5
}
