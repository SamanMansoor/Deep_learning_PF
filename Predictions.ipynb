{
  "cells": [
    {
      "cell_type": "markdown",
      "id": "6bbcbffd",
      "metadata": {
        "id": "6bbcbffd"
      },
      "source": [
        "## Import libraries:"
      ]
    },
    {
      "cell_type": "code",
      "execution_count": 1,
      "id": "341ff331",
      "metadata": {
        "id": "341ff331"
      },
      "outputs": [],
      "source": [
        "from keras.models import Sequential\n",
        "from keras.layers import Dense\n",
        "import numpy as np\n",
        "from sklearn.datasets import make_blobs\n",
        "from sklearn.preprocessing import MinMaxScaler\n"
      ]
    },
    {
      "cell_type": "markdown",
      "id": "e4295c79",
      "metadata": {
        "id": "e4295c79"
      },
      "source": [
        "## Load dataset:"
      ]
    },
    {
      "cell_type": "code",
      "execution_count": 2,
      "id": "4c10991b",
      "metadata": {
        "colab": {
          "base_uri": "https://localhost:8080/"
        },
        "id": "4c10991b",
        "outputId": "aecb23c0-d170-4e4f-bed9-03233706a212"
      },
      "outputs": [
        {
          "output_type": "execute_result",
          "data": {
            "text/plain": [
              "<keras.callbacks.History at 0x7fc6f5bcae50>"
            ]
          },
          "metadata": {},
          "execution_count": 2
        }
      ],
      "source": [
        "# generate 2d classification dataset\n",
        "X, y = make_blobs(n_samples=500, centers=2, n_features=2, random_state=1)\n",
        "scalar = MinMaxScaler()\n",
        "scalar.fit(X)\n",
        "X = scalar.transform(X)\n",
        "# define and fit the final model\n",
        "model = Sequential()\n",
        "model.add(Dense(4, input_shape=(2,), activation='relu'))\n",
        "model.add(Dense(4, activation='relu'))\n",
        "model.add(Dense(1, activation='sigmoid'))\n",
        "model.compile(loss='binary_crossentropy', optimizer='adam')\n",
        "model.fit(X, y, epochs=300, verbose=0)"
      ]
    },
    {
      "cell_type": "markdown",
      "id": "8e4fe811",
      "metadata": {
        "id": "8e4fe811"
      },
      "source": [
        "## Types_of_Prediction:\n",
        "## 1. Class prediction"
      ]
    },
    {
      "cell_type": "code",
      "execution_count": 3,
      "id": "d93cfa43",
      "metadata": {
        "id": "d93cfa43"
      },
      "outputs": [],
      "source": [
        "# new instances \n",
        "Xnew, _ = make_blobs(n_samples=5, centers=2, n_features=2, random_state=1)\n",
        "Xnew = scalar.transform(Xnew)"
      ]
    },
    {
      "cell_type": "code",
      "execution_count": 4,
      "id": "1effb1cc",
      "metadata": {
        "colab": {
          "base_uri": "https://localhost:8080/"
        },
        "id": "1effb1cc",
        "outputId": "3e95d156-e52b-4aa7-9246-2199a9361203"
      },
      "outputs": [
        {
          "output_type": "stream",
          "name": "stdout",
          "text": [
            "1/1 [==============================] - 0s 108ms/step\n"
          ]
        }
      ],
      "source": [
        "ynew = (model.predict(Xnew) > 0.5).astype(\"int32\")"
      ]
    },
    {
      "cell_type": "code",
      "execution_count": 5,
      "id": "ae3f7767",
      "metadata": {
        "colab": {
          "base_uri": "https://localhost:8080/"
        },
        "id": "ae3f7767",
        "outputId": "2b4b72f2-d707-4361-85e2-f5ea4282d9ba"
      },
      "outputs": [
        {
          "output_type": "stream",
          "name": "stdout",
          "text": [
            "X=[0.31310705 0.05373859], Predicted=[1]\n",
            "X=[0.23385262 0.18688147], Predicted=[1]\n",
            "X=[0.84985902 0.6506738 ], Predicted=[0]\n",
            "X=[0.91083232 0.7639318 ], Predicted=[0]\n",
            "X=[0.75323548 0.74100849], Predicted=[0]\n"
          ]
        }
      ],
      "source": [
        "# show the inputs and predicted outputs\n",
        "for i in range(len(Xnew)):\n",
        " print(\"X=%s, Predicted=%s\" % (Xnew[i], ynew[i]))"
      ]
    },
    {
      "cell_type": "markdown",
      "id": "cd0ac575",
      "metadata": {
        "id": "cd0ac575"
      },
      "source": [
        "\n",
        "## 2. Probability prediction"
      ]
    },
    {
      "cell_type": "code",
      "execution_count": 6,
      "id": "7e853474",
      "metadata": {
        "colab": {
          "base_uri": "https://localhost:8080/"
        },
        "id": "7e853474",
        "outputId": "183eca7e-95cb-4ab6-cfb0-67b65928f332"
      },
      "outputs": [
        {
          "output_type": "stream",
          "name": "stdout",
          "text": [
            "1/1 [==============================] - 0s 23ms/step\n"
          ]
        }
      ],
      "source": [
        "#ynew = (model.predict_proba(Xnew) > 0.5).astype(\"int32\")\n",
        "ynew = model.predict(Xnew)"
      ]
    },
    {
      "cell_type": "code",
      "execution_count": 7,
      "id": "2981c5be",
      "metadata": {
        "colab": {
          "base_uri": "https://localhost:8080/"
        },
        "id": "2981c5be",
        "outputId": "c437d370-95a8-4822-fba6-0b48b3fc719e"
      },
      "outputs": [
        {
          "output_type": "stream",
          "name": "stdout",
          "text": [
            "X=[0.31310705 0.05373859], Predicted=[0.96250695]\n",
            "X=[0.23385262 0.18688147], Predicted=[0.96250695]\n",
            "X=[0.84985902 0.6506738 ], Predicted=[0.00024995]\n",
            "X=[0.91083232 0.7639318 ], Predicted=[5.0054095e-05]\n",
            "X=[0.75323548 0.74100849], Predicted=[0.00025571]\n"
          ]
        }
      ],
      "source": [
        "# show the inputs and predicted outputs\n",
        "for i in range(len(Xnew)):\n",
        " print(\"X=%s, Predicted=%s\" % (Xnew[i], ynew[i]))"
      ]
    },
    {
      "cell_type": "markdown",
      "id": "6a481380",
      "metadata": {
        "id": "6a481380"
      },
      "source": [
        "\n",
        "## 3. Regression prediction"
      ]
    },
    {
      "cell_type": "code",
      "execution_count": 8,
      "id": "96a5a0c7",
      "metadata": {
        "colab": {
          "base_uri": "https://localhost:8080/"
        },
        "id": "96a5a0c7",
        "outputId": "d53b4644-5a21-4f8f-82b8-78e7fbe6d7ad"
      },
      "outputs": [
        {
          "output_type": "stream",
          "name": "stdout",
          "text": [
            "1/1 [==============================] - 0s 27ms/step\n",
            "X=[0.29466096, 0.30317302], Predicted=[0.96250695]\n"
          ]
        }
      ],
      "source": [
        "Xnew = [[0.29466096, 0.30317302]]\n",
        "# make a prediction\n",
        "ynew = model.predict(Xnew)\n",
        "# show the inputs and predicted outputs\n",
        "print(\"X=%s, Predicted=%s\" % (Xnew[0], ynew[0]))"
      ]
    }
  ],
  "metadata": {
    "kernelspec": {
      "display_name": "Python 3 (ipykernel)",
      "language": "python",
      "name": "python3"
    },
    "language_info": {
      "codemirror_mode": {
        "name": "ipython",
        "version": 3
      },
      "file_extension": ".py",
      "mimetype": "text/x-python",
      "name": "python",
      "nbconvert_exporter": "python",
      "pygments_lexer": "ipython3",
      "version": "3.10.6"
    },
    "colab": {
      "provenance": []
    }
  },
  "nbformat": 4,
  "nbformat_minor": 5
}